{
 "cells": [
  {
   "cell_type": "code",
   "execution_count": 33,
   "metadata": {
    "collapsed": true
   },
   "outputs": [],
   "source": [
    "DIR = \"D:\\\\new_modelnet\""
   ]
  },
  {
   "cell_type": "code",
   "execution_count": 26,
   "metadata": {
    "collapsed": true
   },
   "outputs": [],
   "source": [
    "os.mkdir(\"{}\\\\train\".format(DIR))\n",
    "os.mkdir(\"{}\\\\test\".format(DIR))"
   ]
  },
  {
   "cell_type": "code",
   "execution_count": 27,
   "metadata": {
    "collapsed": true
   },
   "outputs": [],
   "source": [
    "for class_folder in os.listdir(\"D:/ModelNet40/\"):\n",
    "    for x in {\"train\", \"test\"}:\n",
    "        os.mkdir(\"{}\\\\{}\\\\{}\".format(DIR, x, class_folder))"
   ]
  },
  {
   "cell_type": "code",
   "execution_count": 35,
   "metadata": {
    "collapsed": false
   },
   "outputs": [],
   "source": [
    "for root, _, files in os.walk(\"D:\\\\ModelNet40\\\\\"):\n",
    "    for file in files:\n",
    "        src = \"{}\\\\{}\".format(root, file)\n",
    "        train_test = src.split(\"\\\\\")[3]\n",
    "        class_folder = src.split(\"\\\\\")[2]\n",
    "        dst = \"{}\\\\{}\\\\{}\\\\{}\".format(DIR, train_test, class_folder, file)\n",
    "        os.rename(src, dst)"
   ]
  }
 ],
 "metadata": {
  "anaconda-cloud": {},
  "kernelspec": {
   "display_name": "Python [conda root]",
   "language": "python",
   "name": "conda-root-py"
  },
  "language_info": {
   "codemirror_mode": {
    "name": "ipython",
    "version": 3
   },
   "file_extension": ".py",
   "mimetype": "text/x-python",
   "name": "python",
   "nbconvert_exporter": "python",
   "pygments_lexer": "ipython3",
   "version": "3.5.2"
  }
 },
 "nbformat": 4,
 "nbformat_minor": 1
}
